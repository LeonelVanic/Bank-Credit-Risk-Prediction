{
 "cells": [
  {
   "cell_type": "code",
   "execution_count": null,
   "metadataser": {},
   "outputs": [],
   "source": [
    "# notebooks/EDA.ipynb\n",
    "import pandas as pd\n",
    "import seaborn as sns\n",
    "import matplotlib.pyplot as plt\n",
    "from src.data_preprocessing import load_data\n",
    "\n",
    "# Load data\n",
    "data = load_data(\"../data/raw/crx.data\")\n",
    "\n",
    "# Replace '?' with NaN\n",
    "data = data.replace('?', pd.NA)\n",
    "\n"# Plot target distribution\n",
    "sns.countplot(x='target', data=data)\n",
    "plt.title(\"Target Distribution (+: Default, -: No Default)\")\n",
    "plt.show()\n",
    "\n",
    "# Plot numerical feature distribution\n",
    "sns.histplot(data['A2'].astype(float), kde=True)\n",
    "plt.title(\"Distribution of Feature A2\")\n",
    "plt.show()"
   ]
  }
 ],
 "metadata": {
  "kernelspec": {
   "display_name": "Python 3",
   "language": "python",
   "name": "python3"
  },
  "language_info": {
   "codemirror_mode": {
    "name": "ipython",
    "version": 3
   },
   "file_extension": ".py",
   "mimetype": "text/x-python",
   "name": "python",
   "nbconvert_exporter": "python",
   "pygments_lexer": "ipython3",
   "version": "3.8.0"
  }
 },
 "nbformat": 4,
 "nbformat_minor": 2
}
